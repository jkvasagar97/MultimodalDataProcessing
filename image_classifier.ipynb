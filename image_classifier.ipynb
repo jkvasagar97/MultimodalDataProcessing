{
 "cells": [
  {
   "cell_type": "code",
   "execution_count": 24,
   "id": "917b8f64-b80e-4cea-b336-420a12115446",
   "metadata": {},
   "outputs": [],
   "source": [
    "from os import path\n",
    "import tensorflow as tf\n",
    "from tensorflow.keras import layers, models"
   ]
  },
  {
   "cell_type": "code",
   "execution_count": 50,
   "id": "927f9672-e23f-43ca-9e01-3f1858d1c83e",
   "metadata": {},
   "outputs": [
    {
     "name": "stdout",
     "output_type": "stream",
     "text": [
      "Image batch shape: (32, 224, 224, 3)\n",
      "Label batch shape: (32, 3)\n"
     ]
    }
   ],
   "source": [
    "# Define the file path and column names for the CSV file\n",
    "csv_file_path = \"/Users/jeevakumar/Desktop/FADML/project/CrisisMMD_v2.0/train_image.csv\"\n",
    "image_col_name = \"image\"\n",
    "label_col_name = \"label\"\n",
    "\n",
    "# Define the batch size and image size\n",
    "batch_size = 32\n",
    "image_size = (224, 224)\n",
    "\n",
    "# Define the number of classes\n",
    "num_classes = 3\n",
    "\n",
    "# Define a function to preprocess the images\n",
    "def preprocess_image(image_path, label):\n",
    "    # Load the image file\n",
    "    image = tf.io.read_file(image_path)\n",
    "    # Decode the image to a tensor\n",
    "    image = tf.image.decode_jpeg(image, channels=3)\n",
    "    # Resize the image to the desired size\n",
    "    image = tf.image.resize(image, image_size)\n",
    "    # Convert the pixel values to floats in the range [0, 1]\n",
    "    image = tf.cast(image, tf.float32) / 255.0\n",
    "    # Convert the label to a one-hot encoded vector\n",
    "    label = tf.one_hot(label, depth=num_classes)\n",
    "    return image, label\n",
    "\n",
    "# Create a TensorFlow dataset from the CSV file\n",
    "dataset = tf.data.experimental.CsvDataset(csv_file_path, record_defaults=[tf.string, tf.int32], header=True,\n",
    "                                          field_delim=',', use_quote_delim=True)\n",
    "\n",
    "# Map the preprocessing function to the dataset\n",
    "dataset = dataset.map(preprocess_image)\n",
    "\n",
    "# Shuffle and batch the dataset\n",
    "dataset = dataset.shuffle(buffer_size=1000)\n",
    "dataset = dataset.batch(batch_size)\n",
    "\n",
    "# Print the first batch of elements in the dataset\n",
    "for image_batch, label_batch in dataset.take(1):\n",
    "    print(\"Image batch shape:\", image_batch.shape)\n",
    "    print(\"Label batch shape:\", label_batch.shape)\n"
   ]
  },
  {
   "cell_type": "code",
   "execution_count": 57,
   "id": "51de54f6",
   "metadata": {},
   "outputs": [],
   "source": [
    "base_model = tf.keras.applications.ResNet50(include_top=False, weights='imagenet', input_shape=(224,224,3))\n",
    "base_model.trainable = False\n",
    "model = models.Sequential()\n",
    "model.add(base_model)\n",
    "model.add(layers.Flatten())\n",
    "model.add(layers.Dense(256, activation='relu'))\n",
    "model.add(layers.Dropout(0.5))\n",
    "model.add(layers.Dense(3, activation='softmax'))\n",
    "model.compile(optimizer='adam',\n",
    "              loss='categorical_crossentropy',\n",
    "              metrics=['accuracy'])\n"
   ]
  },
  {
   "cell_type": "code",
   "execution_count": 58,
   "id": "34cd28ee",
   "metadata": {},
   "outputs": [
    {
     "name": "stdout",
     "output_type": "stream",
     "text": [
      "Image batch shape: (32, 224, 224, 3)\n",
      "Label batch shape: (32, 3)\n"
     ]
    }
   ],
   "source": [
    "val = tf.data.experimental.CsvDataset(\"/Users/jeevakumar/Desktop/FADML/project/CrisisMMD_v2.0/test_image.csv\", record_defaults=[tf.string, tf.int32], header=True,\n",
    "                                          field_delim=',', use_quote_delim=True)\n",
    "\n",
    "# Map the preprocessing function to the dataset\n",
    "val = val.map(preprocess_image)\n",
    "\n",
    "# Shuffle and batch the dataset\n",
    "val = val.shuffle(buffer_size=1000)\n",
    "val = val.batch(batch_size)\n",
    "\n",
    "\n",
    "\n",
    "# Print the first batch of elements in the dataset\n",
    "for image_batch, label_batch in val.take(1):\n",
    "    print(\"Image batch shape:\", image_batch.shape)\n",
    "    print(\"Label batch shape:\", label_batch.shape)\n"
   ]
  },
  {
   "cell_type": "code",
   "execution_count": 59,
   "id": "96d54721",
   "metadata": {},
   "outputs": [
    {
     "name": "stdout",
     "output_type": "stream",
     "text": [
      "Epoch 1/10\n"
     ]
    },
    {
     "name": "stderr",
     "output_type": "stream",
     "text": [
      "2023-03-21 23:01:23.855457: I tensorflow/core/grappler/optimizers/custom_graph_optimizer_registry.cc:113] Plugin optimizer for device_type GPU is enabled.\n"
     ]
    },
    {
     "name": "stdout",
     "output_type": "stream",
     "text": [
      "     78/Unknown - 58s 691ms/step - loss: 2.2423 - accuracy: 0.5697"
     ]
    },
    {
     "name": "stderr",
     "output_type": "stream",
     "text": [
      "2023-03-21 23:02:20.745423: I tensorflow/core/grappler/optimizers/custom_graph_optimizer_registry.cc:113] Plugin optimizer for device_type GPU is enabled.\n"
     ]
    },
    {
     "name": "stdout",
     "output_type": "stream",
     "text": [
      "78/78 [==============================] - 72s 879ms/step - loss: 2.2423 - accuracy: 0.5697 - val_loss: 0.8945 - val_accuracy: 0.6276\n",
      "Epoch 2/10\n",
      "78/78 [==============================] - 63s 790ms/step - loss: 0.9664 - accuracy: 0.6248 - val_loss: 0.9075 - val_accuracy: 0.6276\n",
      "Epoch 3/10\n",
      "78/78 [==============================] - 68s 853ms/step - loss: 0.9454 - accuracy: 0.6272 - val_loss: 0.9024 - val_accuracy: 0.6276\n",
      "Epoch 4/10\n",
      "78/78 [==============================] - 77s 963ms/step - loss: 0.9571 - accuracy: 0.6272 - val_loss: 0.9212 - val_accuracy: 0.6276\n",
      "Epoch 5/10\n",
      "78/78 [==============================] - 73s 910ms/step - loss: 0.9402 - accuracy: 0.6272 - val_loss: 0.9239 - val_accuracy: 0.6276\n",
      "Epoch 6/10\n",
      "78/78 [==============================] - 66s 827ms/step - loss: 0.9263 - accuracy: 0.6272 - val_loss: 0.8898 - val_accuracy: 0.6276\n",
      "Epoch 7/10\n",
      "78/78 [==============================] - 83s 1s/step - loss: 0.9203 - accuracy: 0.6272 - val_loss: 0.9144 - val_accuracy: 0.6276\n",
      "Epoch 8/10\n",
      "78/78 [==============================] - 76s 956ms/step - loss: 0.9158 - accuracy: 0.6272 - val_loss: 0.8948 - val_accuracy: 0.6276\n",
      "Epoch 9/10\n",
      "78/78 [==============================] - 68s 855ms/step - loss: 0.9238 - accuracy: 0.6272 - val_loss: 0.9010 - val_accuracy: 0.6276\n",
      "Epoch 10/10\n",
      "78/78 [==============================] - 69s 860ms/step - loss: 0.9198 - accuracy: 0.6272 - val_loss: 0.9126 - val_accuracy: 0.6276\n"
     ]
    },
    {
     "data": {
      "text/plain": [
       "<keras.callbacks.History at 0x2ff87b250>"
      ]
     },
     "execution_count": 59,
     "metadata": {},
     "output_type": "execute_result"
    }
   ],
   "source": [
    "model.fit(\n",
    "    dataset,\n",
    "    validation_data=val,\n",
    "    epochs=10\n",
    ")"
   ]
  },
  {
   "cell_type": "code",
   "execution_count": null,
   "id": "13d95054",
   "metadata": {},
   "outputs": [],
   "source": []
  }
 ],
 "metadata": {
  "kernelspec": {
   "display_name": "Python 3 (ipykernel)",
   "language": "python",
   "name": "python3"
  },
  "language_info": {
   "codemirror_mode": {
    "name": "ipython",
    "version": 3
   },
   "file_extension": ".py",
   "mimetype": "text/x-python",
   "name": "python",
   "nbconvert_exporter": "python",
   "pygments_lexer": "ipython3",
   "version": "3.8.16"
  }
 },
 "nbformat": 4,
 "nbformat_minor": 5
}
